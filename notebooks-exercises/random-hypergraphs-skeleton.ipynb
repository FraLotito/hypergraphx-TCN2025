{
 "cells": [
  {
   "cell_type": "markdown",
   "id": "05a227de",
   "metadata": {},
   "source": [
    "# HGX — Random Generation, Projection & Drawing (mini hypergraph) — Skeleton\n",
    "\n",
    "Follow the comments; replace them with code using **HGX APIs**.\n",
    "Start with **10 nodes**, **5 hyperedges**; then **make it connected**; draw and project.\n"
   ]
  },
  {
   "cell_type": "code",
   "execution_count": null,
   "id": "01b9db5f",
   "metadata": {},
   "outputs": [],
   "source": [
    "# TODO: Imports\n",
    "# - from hypergraphx.generation.random import random_hypergraph\n",
    "# - from hypergraphx.viz.draw_hypergraph import draw_hypergraph\n",
    "# - from hypergraphx.representations.projection import clique_projection\n",
    "# - from hypergraphx.core.hypergraph import Hypergraph\n",
    "# - import matplotlib.pyplot as plt\n",
    "# - import networkx as nx\n",
    "# - import random\n",
    "# - set SEED = 2025, n = 10, edges_by_size = {2: 3, 3: 2}"
   ]
  },
  {
   "cell_type": "code",
   "execution_count": null,
   "id": "3992ffe0",
   "metadata": {},
   "outputs": [],
   "source": [
    "# TODO: Generate the base hypergraph (seeded)\n",
    "# - hg = random_hypergraph(num_nodes=n, num_edges_by_size=edges_by_size, seed=SEED)\n",
    "# - print node/edge counts\n",
    "# - print hyperedge size distribution via hg.distribution_sizes()\n",
    "# - print the list of edges"
   ]
  },
  {
   "cell_type": "code",
   "execution_count": null,
   "id": "1d587a37",
   "metadata": {},
   "outputs": [],
   "source": [
    "# TODO: Make the hypergraph connected by adding random unique edges of size 2..4\n",
    "# - nodes = list(map(str, hg.get_nodes()))\n",
    "# - maintain a 'seen' set of frozensets for uniqueness\n",
    "# - while hg.largest_component_size() < hg.num_nodes(): sample size in {2,3,4}, add edge if new\n",
    "# - print how many edges you added"
   ]
  },
  {
   "cell_type": "code",
   "execution_count": null,
   "id": "34c8da5b",
   "metadata": {},
   "outputs": [],
   "source": [
    "# TODO: Draw the hypergraph using HGX viz\n",
    "# - draw_hypergraph(hg)"
   ]
  },
  {
   "cell_type": "code",
   "execution_count": null,
   "id": "8dfc5b06",
   "metadata": {},
   "outputs": [],
   "source": [
    "# TODO: Plot distributions\n",
    "# - Node degree distribution: degrees = [hg.degree(u) for u in hg.get_nodes()]; plt.hist(...)\n",
    "# - Hyperedge size distribution: sizes = dict(hg.distribution_sizes()); plt.bar(...)\n",
    "# - Use separate figures and avoid setting custom colors/styles"
   ]
  },
  {
   "cell_type": "code",
   "execution_count": null,
   "id": "1e642b2b",
   "metadata": {},
   "outputs": [],
   "source": [
    "# TODO: Clique projection with HGX and networkx visualization\n",
    "# - G = clique_projection(hg, keep_isolated=False)\n",
    "# - pos = nx.spring_layout(G, seed=SEED); nx.draw(G, pos, with_labels=True)\n",
    "# - Plot histogram of projection degrees"
   ]
  }
 ],
 "metadata": {},
 "nbformat": 4,
 "nbformat_minor": 5
}